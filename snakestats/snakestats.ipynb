{
 "cells": [
  {
   "cell_type": "code",
   "execution_count": 1,
   "id": "bbb690d8",
   "metadata": {},
   "outputs": [],
   "source": [
    "import unittest\n",
    "import snakestats"
   ]
  },
  {
   "cell_type": "code",
   "execution_count": 2,
   "id": "ebb6b828",
   "metadata": {},
   "outputs": [
    {
     "name": "stderr",
     "output_type": "stream",
     "text": [
      "test_mean (__main__.TestsForSnakeStats) ... ok\n",
      "\n",
      "----------------------------------------------------------------------\n",
      "Ran 1 test in 0.002s\n",
      "\n",
      "OK\n"
     ]
    },
    {
     "data": {
      "text/plain": [
       "<unittest.main.TestProgram at 0x7f855809c250>"
      ]
     },
     "execution_count": 2,
     "metadata": {},
     "output_type": "execute_result"
    }
   ],
   "source": [
    "class TestsForSnakeStats(unittest.TestCase):\n",
    "    \n",
    "    def test_mean(self):\n",
    "        res = snakestats.mean([1,2,3])\n",
    "        self.assertEqual(res, 2.0)\n",
    "\n",
    "unittest.main(argv=['ignored', '-v'], exit=False)"
   ]
  },
  {
   "cell_type": "code",
   "execution_count": 3,
   "id": "4dd5791e",
   "metadata": {},
   "outputs": [
    {
     "name": "stderr",
     "output_type": "stream",
     "text": [
      "test_mean_2_values (__main__.TestsForSnakeStats) ... ok\n",
      "test_mean_3_values (__main__.TestsForSnakeStats) ... ok\n",
      "\n",
      "----------------------------------------------------------------------\n",
      "Ran 2 tests in 0.001s\n",
      "\n",
      "OK\n"
     ]
    },
    {
     "data": {
      "text/plain": [
       "<unittest.main.TestProgram at 0x7f85580963a0>"
      ]
     },
     "execution_count": 3,
     "metadata": {},
     "output_type": "execute_result"
    }
   ],
   "source": [
    "class TestsForSnakeStats(unittest.TestCase):\n",
    "\n",
    "    def test_mean_3_values(self):\n",
    "        res = snakestats.mean([1,2,3])\n",
    "        self.assertEqual(res, 2.0)\n",
    "\n",
    "    def test_mean_2_values(self):\n",
    "        res = snakestats.mean([1,2])\n",
    "        self.assertEqual(res, 1.5)\n",
    "\n",
    "unittest.main(argv=['ignored', '-v'], exit=False)"
   ]
  },
  {
   "cell_type": "code",
   "execution_count": 4,
   "id": "0ad7d7e6",
   "metadata": {},
   "outputs": [
    {
     "name": "stderr",
     "output_type": "stream",
     "text": [
      "test_mean_mixed_values (__main__.TestsForSnakeStats) ... ok\n",
      "\n",
      "----------------------------------------------------------------------\n",
      "Ran 1 test in 0.001s\n",
      "\n",
      "OK\n"
     ]
    },
    {
     "data": {
      "text/plain": [
       "<unittest.main.TestProgram at 0x7f85796a3280>"
      ]
     },
     "execution_count": 4,
     "metadata": {},
     "output_type": "execute_result"
    }
   ],
   "source": [
    "class TestsForSnakeStats(unittest.TestCase):\n",
    "\n",
    "    def test_mean_mixed_values(self):\n",
    "        res = snakestats.mean([1,2,3,'4'])\n",
    "        self.assertEqual(res, 2.5)\n",
    "        \n",
    "unittest.main(argv=['ignored', '-v'], exit=False)"
   ]
  },
  {
   "cell_type": "code",
   "execution_count": 5,
   "id": "3ffa9a08",
   "metadata": {},
   "outputs": [
    {
     "name": "stderr",
     "output_type": "stream",
     "text": [
      "test_getMax (__main__.TestsForSnakeStats) ... ok\n",
      "\n",
      "----------------------------------------------------------------------\n",
      "Ran 1 test in 0.001s\n",
      "\n",
      "OK\n"
     ]
    },
    {
     "data": {
      "text/plain": [
       "<unittest.main.TestProgram at 0x7f8568f284f0>"
      ]
     },
     "execution_count": 5,
     "metadata": {},
     "output_type": "execute_result"
    }
   ],
   "source": [
    "class TestsForSnakeStats(unittest.TestCase):\n",
    "\n",
    "    def test_getMax(self):\n",
    "        theMax = snakestats.getMax([6,5,4,3,2,1])\n",
    "        self.assertEqual(theMax, 6)\n",
    "        \n",
    "unittest.main(argv=['ignored', '-v'], exit=False)"
   ]
  },
  {
   "cell_type": "code",
   "execution_count": 6,
   "id": "6d3285d0",
   "metadata": {},
   "outputs": [
    {
     "name": "stderr",
     "output_type": "stream",
     "text": [
      "test_getMaxLast (__main__.TestsForSnakeStats) ... ok\n",
      "\n",
      "----------------------------------------------------------------------\n",
      "Ran 1 test in 0.002s\n",
      "\n",
      "OK\n"
     ]
    },
    {
     "data": {
      "text/plain": [
       "<unittest.main.TestProgram at 0x7f8568f30640>"
      ]
     },
     "execution_count": 6,
     "metadata": {},
     "output_type": "execute_result"
    }
   ],
   "source": [
    "class TestsForSnakeStats(unittest.TestCase):\n",
    "\n",
    "    def test_getMaxLast(self):\n",
    "        theMax = snakestats.getMax([6,5,4,3,2,7])\n",
    "        self.assertEqual(theMax, 7)\n",
    "    \n",
    "unittest.main(argv=['ignored', '-v'], exit=False)"
   ]
  },
  {
   "cell_type": "code",
   "execution_count": 7,
   "id": "43f547f4",
   "metadata": {},
   "outputs": [
    {
     "name": "stderr",
     "output_type": "stream",
     "text": [
      "test_getMaxAll (__main__.TestsForSnakeStats) ... ok\n",
      "\n",
      "----------------------------------------------------------------------\n",
      "Ran 1 test in 0.001s\n",
      "\n",
      "OK\n"
     ]
    },
    {
     "data": {
      "text/plain": [
       "<unittest.main.TestProgram at 0x7f8568f36fa0>"
      ]
     },
     "execution_count": 7,
     "metadata": {},
     "output_type": "execute_result"
    }
   ],
   "source": [
    "class TestsForSnakeStats(unittest.TestCase):\n",
    "\n",
    "    def test_getMaxAll(self):\n",
    "        theMax = snakestats.getMax([6,5,4,3,2,7,'8'])\n",
    "        self.assertEqual(theMax, 8)\n",
    "    \n",
    "unittest.main(argv=['ignored', '-v'], exit=False)"
   ]
  },
  {
   "cell_type": "markdown",
   "id": "d90bb49d",
   "metadata": {},
   "source": [
    "## The following blocks of code was coded for Part 2 of my SDD Coursework."
   ]
  },
  {
   "cell_type": "markdown",
   "id": "5708f61b",
   "metadata": {},
   "source": [
    "### Test Set 1 : Minimum"
   ]
  },
  {
   "cell_type": "code",
   "execution_count": 8,
   "id": "5bf61291",
   "metadata": {},
   "outputs": [
    {
     "name": "stderr",
     "output_type": "stream",
     "text": [
      "test_getMinNum (__main__.TestsForSnakeStats) ... ok\n",
      "\n",
      "----------------------------------------------------------------------\n",
      "Ran 1 test in 0.001s\n",
      "\n",
      "OK\n"
     ]
    },
    {
     "data": {
      "text/plain": [
       "<unittest.main.TestProgram at 0x7f8568f28760>"
      ]
     },
     "execution_count": 8,
     "metadata": {},
     "output_type": "execute_result"
    }
   ],
   "source": [
    "class TestsForSnakeStats(unittest.TestCase):\n",
    "\n",
    "    def test_getMinNum(self):\n",
    "        theMin = snakestats.getMin([1,2])\n",
    "        self.assertEqual(theMin, 1)\n",
    "    \n",
    "unittest.main(argv=['ignored', '-v'], exit=False)"
   ]
  },
  {
   "cell_type": "code",
   "execution_count": 9,
   "id": "5d56c2fa",
   "metadata": {},
   "outputs": [
    {
     "name": "stderr",
     "output_type": "stream",
     "text": [
      "test_getMinOfN (__main__.TestsForSnakeStats) ... ok\n",
      "\n",
      "----------------------------------------------------------------------\n",
      "Ran 1 test in 0.001s\n",
      "\n",
      "OK\n"
     ]
    },
    {
     "data": {
      "text/plain": [
       "<unittest.main.TestProgram at 0x7f8568f45400>"
      ]
     },
     "execution_count": 9,
     "metadata": {},
     "output_type": "execute_result"
    }
   ],
   "source": [
    "class TestsForSnakeStats(unittest.TestCase):\n",
    "\n",
    "    def test_getMinOfN(self):\n",
    "        theMin = snakestats.getMin([3,2,4,1,6,5])\n",
    "        self.assertEqual(theMin, 1)\n",
    "    \n",
    "unittest.main(argv=['ignored', '-v'], exit=False)"
   ]
  },
  {
   "cell_type": "code",
   "execution_count": 10,
   "id": "a09fab42",
   "metadata": {},
   "outputs": [
    {
     "name": "stderr",
     "output_type": "stream",
     "text": [
      "test_getMinOfN (__main__.TestsForSnakeStats) ... ok\n",
      "\n",
      "----------------------------------------------------------------------\n",
      "Ran 1 test in 0.001s\n",
      "\n",
      "OK\n"
     ]
    },
    {
     "data": {
      "text/plain": [
       "<unittest.main.TestProgram at 0x7f8568f45fa0>"
      ]
     },
     "execution_count": 10,
     "metadata": {},
     "output_type": "execute_result"
    }
   ],
   "source": [
    "class TestsForSnakeStats(unittest.TestCase):\n",
    "\n",
    "    def test_getMinOfN(self):\n",
    "        theMin = snakestats.getMin(['3',2,4,'7',1,6,'5'])\n",
    "        self.assertEqual(theMin, 1)\n",
    "    \n",
    "unittest.main(argv=['ignored', '-v'], exit=False)"
   ]
  },
  {
   "cell_type": "markdown",
   "id": "e4ece612",
   "metadata": {},
   "source": [
    "### Test Set 2 : Frequency / Mode"
   ]
  },
  {
   "cell_type": "code",
   "execution_count": 11,
   "id": "b38201be",
   "metadata": {
    "scrolled": false
   },
   "outputs": [
    {
     "name": "stderr",
     "output_type": "stream",
     "text": [
      "test_sameMode (__main__.TestsForSnakeStats) ... ok\n",
      "\n",
      "----------------------------------------------------------------------\n",
      "Ran 1 test in 0.001s\n",
      "\n",
      "OK\n"
     ]
    },
    {
     "data": {
      "text/plain": [
       "<unittest.main.TestProgram at 0x7f8568f287c0>"
      ]
     },
     "execution_count": 11,
     "metadata": {},
     "output_type": "execute_result"
    }
   ],
   "source": [
    "class TestsForSnakeStats(unittest.TestCase):\n",
    "\n",
    "    def test_sameMode(self):\n",
    "        freq = snakestats.getMode([2,1,0,3,5,4])\n",
    "        self.assertTrue(freq, True)\n",
    "    \n",
    "unittest.main(argv=['ignored', '-v'], exit=False)"
   ]
  },
  {
   "cell_type": "code",
   "execution_count": 17,
   "id": "40bb81da",
   "metadata": {},
   "outputs": [
    {
     "name": "stderr",
     "output_type": "stream",
     "text": [
      "test_sameMode (__main__.TestsForSnakeStats) ... ok\n",
      "\n",
      "----------------------------------------------------------------------\n",
      "Ran 1 test in 0.002s\n",
      "\n",
      "OK\n"
     ]
    },
    {
     "data": {
      "text/plain": [
       "<unittest.main.TestProgram at 0x7f8568f45910>"
      ]
     },
     "execution_count": 17,
     "metadata": {},
     "output_type": "execute_result"
    }
   ],
   "source": [
    "class TestsForSnakeStats(unittest.TestCase):\n",
    "\n",
    "    def test_sameMode(self):\n",
    "        freq = snakestats.getMode([2,1,0,2,5,4])\n",
    "        self.assertFalse(freq[0], False)\n",
    "    \n",
    "unittest.main(argv=['ignored', '-v'], exit=False)"
   ]
  },
  {
   "cell_type": "code",
   "execution_count": 18,
   "id": "4c56f895",
   "metadata": {},
   "outputs": [
    {
     "name": "stderr",
     "output_type": "stream",
     "text": [
      "test_getMode (__main__.TestsForSnakeStats) ... ok\n",
      "\n",
      "----------------------------------------------------------------------\n",
      "Ran 1 test in 0.004s\n",
      "\n",
      "OK\n"
     ]
    },
    {
     "data": {
      "text/plain": [
       "<unittest.main.TestProgram at 0x7f8568f28eb0>"
      ]
     },
     "execution_count": 18,
     "metadata": {},
     "output_type": "execute_result"
    }
   ],
   "source": [
    "class TestsForSnakeStats(unittest.TestCase):\n",
    "\n",
    "    def test_getMode(self):\n",
    "        freq = snakestats.getMode([2,1,0,2,5,4])\n",
    "        self.assertEqual(freq[1], 2)\n",
    "    \n",
    "unittest.main(argv=['ignored', '-v'], exit=False)"
   ]
  },
  {
   "cell_type": "markdown",
   "id": "685a87b4",
   "metadata": {},
   "source": [
    "### Test Set 3 : Median"
   ]
  },
  {
   "cell_type": "code",
   "execution_count": 14,
   "id": "d7b3b489",
   "metadata": {},
   "outputs": [
    {
     "name": "stderr",
     "output_type": "stream",
     "text": [
      "test_getMedian (__main__.TestsForSnakeStats) ... ok\n",
      "\n",
      "----------------------------------------------------------------------\n",
      "Ran 1 test in 0.001s\n",
      "\n",
      "OK\n"
     ]
    },
    {
     "data": {
      "text/plain": [
       "<unittest.main.TestProgram at 0x7f8568f45e50>"
      ]
     },
     "execution_count": 14,
     "metadata": {},
     "output_type": "execute_result"
    }
   ],
   "source": [
    "class TestsForSnakeStats(unittest.TestCase):\n",
    "\n",
    "    def test_getMedian(self):\n",
    "        med = snakestats.getMedian([1,2,3,4,5])\n",
    "        self.assertEqual(med, 3)\n",
    "    \n",
    "unittest.main(argv=['ignored', '-v'], exit=False)"
   ]
  },
  {
   "cell_type": "code",
   "execution_count": 15,
   "id": "0ea41f7b",
   "metadata": {},
   "outputs": [
    {
     "name": "stderr",
     "output_type": "stream",
     "text": [
      "test_getMedian (__main__.TestsForSnakeStats) ... ok\n",
      "\n",
      "----------------------------------------------------------------------\n",
      "Ran 1 test in 0.001s\n",
      "\n",
      "OK\n"
     ]
    },
    {
     "data": {
      "text/plain": [
       "<unittest.main.TestProgram at 0x7f8568f5bf10>"
      ]
     },
     "execution_count": 15,
     "metadata": {},
     "output_type": "execute_result"
    }
   ],
   "source": [
    "class TestsForSnakeStats(unittest.TestCase):\n",
    "\n",
    "    def test_getMedian(self):\n",
    "        med = snakestats.getMedian([1,2,3,4])\n",
    "        self.assertEqual(med, 2.5)\n",
    "    \n",
    "unittest.main(argv=['ignored', '-v'], exit=False)"
   ]
  },
  {
   "cell_type": "code",
   "execution_count": 16,
   "id": "30c3d1e8",
   "metadata": {},
   "outputs": [
    {
     "name": "stderr",
     "output_type": "stream",
     "text": [
      "test_getMedian (__main__.TestsForSnakeStats) ... ok\n",
      "\n",
      "----------------------------------------------------------------------\n",
      "Ran 1 test in 0.001s\n",
      "\n",
      "OK\n"
     ]
    },
    {
     "data": {
      "text/plain": [
       "<unittest.main.TestProgram at 0x7f8568f70670>"
      ]
     },
     "execution_count": 16,
     "metadata": {},
     "output_type": "execute_result"
    }
   ],
   "source": [
    "class TestsForSnakeStats(unittest.TestCase):\n",
    "\n",
    "    def test_getMedian(self):\n",
    "        med = snakestats.getMedian([3,1,5,6,2,7,4])\n",
    "        self.assertEqual(med, 4)\n",
    "    \n",
    "unittest.main(argv=['ignored', '-v'], exit=False)"
   ]
  },
  {
   "cell_type": "code",
   "execution_count": null,
   "id": "7ea7fb76",
   "metadata": {},
   "outputs": [],
   "source": []
  }
 ],
 "metadata": {
  "kernelspec": {
   "display_name": "Python 3 (ipykernel)",
   "language": "python",
   "name": "python3"
  },
  "language_info": {
   "codemirror_mode": {
    "name": "ipython",
    "version": 3
   },
   "file_extension": ".py",
   "mimetype": "text/x-python",
   "name": "python",
   "nbconvert_exporter": "python",
   "pygments_lexer": "ipython3",
   "version": "3.9.13"
  }
 },
 "nbformat": 4,
 "nbformat_minor": 5
}
