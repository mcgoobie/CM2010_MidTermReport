{
 "cells": [
  {
   "cell_type": "code",
   "execution_count": 1,
   "id": "bbb690d8",
   "metadata": {},
   "outputs": [],
   "source": [
    "import unittest\n",
    "import snakestats"
   ]
  },
  {
   "cell_type": "code",
   "execution_count": 2,
   "id": "ebb6b828",
   "metadata": {},
   "outputs": [
    {
     "name": "stderr",
     "output_type": "stream",
     "text": [
      "test_mean (__main__.TestsForSnakeStats) ... ok\n",
      "\n",
      "----------------------------------------------------------------------\n",
      "Ran 1 test in 0.001s\n",
      "\n",
      "OK\n"
     ]
    },
    {
     "data": {
      "text/plain": [
       "<unittest.main.TestProgram at 0x21e5d745fa0>"
      ]
     },
     "execution_count": 2,
     "metadata": {},
     "output_type": "execute_result"
    }
   ],
   "source": [
    "class TestsForSnakeStats(unittest.TestCase):\n",
    "    \n",
    "    def test_mean(self):\n",
    "        res = snakestats.mean([1,2,3])\n",
    "        self.assertEqual(res, 2.0)\n",
    "\n",
    "unittest.main(argv=['ignored', '-v'], exit=False)"
   ]
  },
  {
   "cell_type": "code",
   "execution_count": 3,
   "id": "4dd5791e",
   "metadata": {},
   "outputs": [
    {
     "name": "stderr",
     "output_type": "stream",
     "text": [
      "test_mean_2_values (__main__.TestsForSnakeStats) ... ok\n",
      "test_mean_3_values (__main__.TestsForSnakeStats) ... ok\n",
      "\n",
      "----------------------------------------------------------------------\n",
      "Ran 2 tests in 0.001s\n",
      "\n",
      "OK\n"
     ]
    },
    {
     "data": {
      "text/plain": [
       "<unittest.main.TestProgram at 0x21e5d2ca2e0>"
      ]
     },
     "execution_count": 3,
     "metadata": {},
     "output_type": "execute_result"
    }
   ],
   "source": [
    "class TestsForSnakeStats(unittest.TestCase):\n",
    "\n",
    "    def test_mean_3_values(self):\n",
    "        res = snakestats.mean([1,2,3])\n",
    "        self.assertEqual(res, 2.0)\n",
    "\n",
    "    def test_mean_2_values(self):\n",
    "        res = snakestats.mean([1,2])\n",
    "        self.assertEqual(res, 1.5)\n",
    "\n",
    "unittest.main(argv=['ignored', '-v'], exit=False)"
   ]
  },
  {
   "cell_type": "code",
   "execution_count": 4,
   "id": "0ad7d7e6",
   "metadata": {},
   "outputs": [
    {
     "name": "stderr",
     "output_type": "stream",
     "text": [
      "test_mean_mixed_values (__main__.TestsForSnakeStats) ... ok\n",
      "\n",
      "----------------------------------------------------------------------\n",
      "Ran 1 test in 0.001s\n",
      "\n",
      "OK\n"
     ]
    },
    {
     "data": {
      "text/plain": [
       "<unittest.main.TestProgram at 0x21e5d38b670>"
      ]
     },
     "execution_count": 4,
     "metadata": {},
     "output_type": "execute_result"
    }
   ],
   "source": [
    "class TestsForSnakeStats(unittest.TestCase):\n",
    "\n",
    "    def test_mean_mixed_values(self):\n",
    "        res = snakestats.mean([1,2,3,'4'])\n",
    "        self.assertEqual(res, 2.5)\n",
    "        \n",
    "unittest.main(argv=['ignored', '-v'], exit=False)"
   ]
  },
  {
   "cell_type": "code",
   "execution_count": 5,
   "id": "3ffa9a08",
   "metadata": {},
   "outputs": [
    {
     "name": "stderr",
     "output_type": "stream",
     "text": [
      "test_getMax (__main__.TestsForSnakeStats) ... ok\n",
      "\n",
      "----------------------------------------------------------------------\n",
      "Ran 1 test in 0.001s\n",
      "\n",
      "OK\n"
     ]
    },
    {
     "data": {
      "text/plain": [
       "<unittest.main.TestProgram at 0x21e5d7ce850>"
      ]
     },
     "execution_count": 5,
     "metadata": {},
     "output_type": "execute_result"
    }
   ],
   "source": [
    "class TestsForSnakeStats(unittest.TestCase):\n",
    "\n",
    "    def test_getMax(self):\n",
    "        theMax = snakestats.getMax([6,5,4,3,2,1])\n",
    "        self.assertEqual(theMax, 6)\n",
    "        \n",
    "unittest.main(argv=['ignored', '-v'], exit=False)"
   ]
  },
  {
   "cell_type": "code",
   "execution_count": 6,
   "id": "6d3285d0",
   "metadata": {},
   "outputs": [
    {
     "name": "stderr",
     "output_type": "stream",
     "text": [
      "test_getMaxLast (__main__.TestsForSnakeStats) ... ok\n",
      "\n",
      "----------------------------------------------------------------------\n",
      "Ran 1 test in 0.001s\n",
      "\n",
      "OK\n"
     ]
    },
    {
     "data": {
      "text/plain": [
       "<unittest.main.TestProgram at 0x21e5d7f1400>"
      ]
     },
     "execution_count": 6,
     "metadata": {},
     "output_type": "execute_result"
    }
   ],
   "source": [
    "class TestsForSnakeStats(unittest.TestCase):\n",
    "\n",
    "    def test_getMaxLast(self):\n",
    "        theMax = snakestats.getMax([6,5,4,3,2,7])\n",
    "        self.assertEqual(theMax, 7)\n",
    "    \n",
    "unittest.main(argv=['ignored', '-v'], exit=False)"
   ]
  },
  {
   "cell_type": "code",
   "execution_count": 7,
   "id": "43f547f4",
   "metadata": {},
   "outputs": [
    {
     "name": "stderr",
     "output_type": "stream",
     "text": [
      "test_getMaxAll (__main__.TestsForSnakeStats) ... ok\n",
      "\n",
      "----------------------------------------------------------------------\n",
      "Ran 1 test in 0.001s\n",
      "\n",
      "OK\n"
     ]
    },
    {
     "data": {
      "text/plain": [
       "<unittest.main.TestProgram at 0x21e5d2ca6d0>"
      ]
     },
     "execution_count": 7,
     "metadata": {},
     "output_type": "execute_result"
    }
   ],
   "source": [
    "class TestsForSnakeStats(unittest.TestCase):\n",
    "\n",
    "    def test_getMaxAll(self):\n",
    "        theMax = snakestats.getMax([6,5,4,3,2,7,'8'])\n",
    "        self.assertEqual(theMax, 8)\n",
    "    \n",
    "unittest.main(argv=['ignored', '-v'], exit=False)"
   ]
  },
  {
   "cell_type": "markdown",
   "id": "d90bb49d",
   "metadata": {},
   "source": [
    "## The following blocks of code was coded for Part 2 of my SDD Coursework."
   ]
  },
  {
   "cell_type": "markdown",
   "id": "5708f61b",
   "metadata": {},
   "source": [
    "### Test Set 1 : Minimum"
   ]
  },
  {
   "cell_type": "code",
   "execution_count": 8,
   "id": "5bf61291",
   "metadata": {},
   "outputs": [
    {
     "name": "stderr",
     "output_type": "stream",
     "text": [
      "test_getMinNum (__main__.TestsForSnakeStats) ... ok\n",
      "\n",
      "----------------------------------------------------------------------\n",
      "Ran 1 test in 0.001s\n",
      "\n",
      "OK\n"
     ]
    },
    {
     "data": {
      "text/plain": [
       "<unittest.main.TestProgram at 0x21e5d7ceb50>"
      ]
     },
     "execution_count": 8,
     "metadata": {},
     "output_type": "execute_result"
    }
   ],
   "source": [
    "class TestsForSnakeStats(unittest.TestCase):\n",
    "\n",
    "    def test_getMinNum(self):\n",
    "        theMin = snakestats.getMin([1,2])\n",
    "        self.assertEqual(theMin, 1)\n",
    "    \n",
    "unittest.main(argv=['ignored', '-v'], exit=False)"
   ]
  },
  {
   "cell_type": "code",
   "execution_count": 9,
   "id": "5d56c2fa",
   "metadata": {},
   "outputs": [
    {
     "name": "stderr",
     "output_type": "stream",
     "text": [
      "test_getMinOfN (__main__.TestsForSnakeStats) ... ok\n",
      "\n",
      "----------------------------------------------------------------------\n",
      "Ran 1 test in 0.001s\n",
      "\n",
      "OK\n"
     ]
    },
    {
     "data": {
      "text/plain": [
       "<unittest.main.TestProgram at 0x21e5d8038b0>"
      ]
     },
     "execution_count": 9,
     "metadata": {},
     "output_type": "execute_result"
    }
   ],
   "source": [
    "class TestsForSnakeStats(unittest.TestCase):\n",
    "\n",
    "    def test_getMinOfN(self):\n",
    "        theMin = snakestats.getMin([3,2,4,1,6,5])\n",
    "        self.assertEqual(theMin, 1)\n",
    "    \n",
    "unittest.main(argv=['ignored', '-v'], exit=False)"
   ]
  },
  {
   "cell_type": "code",
   "execution_count": 10,
   "id": "a09fab42",
   "metadata": {},
   "outputs": [
    {
     "name": "stderr",
     "output_type": "stream",
     "text": [
      "test_getMinOfN (__main__.TestsForSnakeStats) ... ok\n",
      "\n",
      "----------------------------------------------------------------------\n",
      "Ran 1 test in 0.001s\n",
      "\n",
      "OK\n"
     ]
    },
    {
     "data": {
      "text/plain": [
       "<unittest.main.TestProgram at 0x21e5d7f1700>"
      ]
     },
     "execution_count": 10,
     "metadata": {},
     "output_type": "execute_result"
    }
   ],
   "source": [
    "class TestsForSnakeStats(unittest.TestCase):\n",
    "\n",
    "    def test_getMinOfN(self):\n",
    "        theMin = snakestats.getMin(['3',2,4,'7',1,6,'5'])\n",
    "        self.assertEqual(theMin, 1)\n",
    "    \n",
    "unittest.main(argv=['ignored', '-v'], exit=False)"
   ]
  },
  {
   "cell_type": "markdown",
   "id": "e4ece612",
   "metadata": {},
   "source": [
    "### Test Set 2 : Frequency / Mode"
   ]
  },
  {
   "cell_type": "code",
   "execution_count": 11,
   "id": "b38201be",
   "metadata": {
    "scrolled": true
   },
   "outputs": [
    {
     "name": "stderr",
     "output_type": "stream",
     "text": [
      "test_getMostFreq (__main__.TestsForSnakeStats) ... ok\n",
      "\n",
      "----------------------------------------------------------------------\n",
      "Ran 1 test in 0.001s\n",
      "\n",
      "OK\n"
     ]
    },
    {
     "data": {
      "text/plain": [
       "<unittest.main.TestProgram at 0x21e5d7cbbe0>"
      ]
     },
     "execution_count": 11,
     "metadata": {},
     "output_type": "execute_result"
    }
   ],
   "source": [
    "class TestsForSnakeStats(unittest.TestCase):\n",
    "\n",
    "    def test_getMostFreq(self):\n",
    "        freq = snakestats.getFreq([2,1,0,3,5,4])\n",
    "        self.assertTrue(freq, True)\n",
    "    \n",
    "unittest.main(argv=['ignored', '-v'], exit=False)"
   ]
  },
  {
   "cell_type": "code",
   "execution_count": 12,
   "id": "40bb81da",
   "metadata": {},
   "outputs": [
    {
     "name": "stderr",
     "output_type": "stream",
     "text": [
      "test_getMostFreq (__main__.TestsForSnakeStats) ... ok\n",
      "\n",
      "----------------------------------------------------------------------\n",
      "Ran 1 test in 0.001s\n",
      "\n",
      "OK\n"
     ]
    },
    {
     "data": {
      "text/plain": [
       "<unittest.main.TestProgram at 0x21e5d808b50>"
      ]
     },
     "execution_count": 12,
     "metadata": {},
     "output_type": "execute_result"
    }
   ],
   "source": [
    "class TestsForSnakeStats(unittest.TestCase):\n",
    "\n",
    "    def test_getMostFreq(self):\n",
    "        freq = snakestats.getFreq([2,1,0,2,5,4])\n",
    "        self.assertEqual(freq, 2)\n",
    "    \n",
    "unittest.main(argv=['ignored', '-v'], exit=False)"
   ]
  },
  {
   "cell_type": "code",
   "execution_count": 13,
   "id": "4c56f895",
   "metadata": {},
   "outputs": [
    {
     "name": "stderr",
     "output_type": "stream",
     "text": [
      "test_getMostFreq (__main__.TestsForSnakeStats) ... ok\n",
      "\n",
      "----------------------------------------------------------------------\n",
      "Ran 1 test in 0.001s\n",
      "\n",
      "OK\n"
     ]
    },
    {
     "data": {
      "text/plain": [
       "<unittest.main.TestProgram at 0x21e5d7f1c70>"
      ]
     },
     "execution_count": 13,
     "metadata": {},
     "output_type": "execute_result"
    }
   ],
   "source": [
    "class TestsForSnakeStats(unittest.TestCase):\n",
    "\n",
    "    def test_getMostFreq(self):\n",
    "        freq = snakestats.getFreq([2.1,1.7,0,2.6,5.2,4.3])\n",
    "        self.assertEqual(freq, 2)\n",
    "    \n",
    "unittest.main(argv=['ignored', '-v'], exit=False)"
   ]
  },
  {
   "cell_type": "markdown",
   "id": "685a87b4",
   "metadata": {},
   "source": [
    "### Test Set 3 : Median"
   ]
  },
  {
   "cell_type": "code",
   "execution_count": 14,
   "id": "e979099c",
   "metadata": {},
   "outputs": [
    {
     "name": "stderr",
     "output_type": "stream",
     "text": [
      "test_isOddNum (__main__.TestsForSnakeStats) ... ERROR\n",
      "\n",
      "======================================================================\n",
      "ERROR: test_isOddNum (__main__.TestsForSnakeStats)\n",
      "----------------------------------------------------------------------\n",
      "Traceback (most recent call last):\n",
      "  File \"C:\\Users\\Owen\\AppData\\Local\\Temp\\ipykernel_8996\\1175598441.py\", line 4, in test_isOddNum\n",
      "    odd = snakestats.isOdd(2)\n",
      "AttributeError: module 'snakestats' has no attribute 'isOdd'\n",
      "\n",
      "----------------------------------------------------------------------\n",
      "Ran 1 test in 0.001s\n",
      "\n",
      "FAILED (errors=1)\n"
     ]
    },
    {
     "data": {
      "text/plain": [
       "<unittest.main.TestProgram at 0x21e5d803400>"
      ]
     },
     "execution_count": 14,
     "metadata": {},
     "output_type": "execute_result"
    }
   ],
   "source": [
    "class TestsForSnakeStats(unittest.TestCase):\n",
    "\n",
    "    def test_isOddNum(self):\n",
    "        odd = snakestats.isOdd(2)\n",
    "        self.assertFalse(odd)\n",
    "    \n",
    "unittest.main(argv=['ignored', '-v'], exit=False)"
   ]
  },
  {
   "cell_type": "code",
   "execution_count": 15,
   "id": "d7b3b489",
   "metadata": {},
   "outputs": [
    {
     "name": "stderr",
     "output_type": "stream",
     "text": [
      "test_getMedian (__main__.TestsForSnakeStats) ... ok\n",
      "\n",
      "----------------------------------------------------------------------\n",
      "Ran 1 test in 0.001s\n",
      "\n",
      "OK\n"
     ]
    },
    {
     "data": {
      "text/plain": [
       "<unittest.main.TestProgram at 0x21e5d818430>"
      ]
     },
     "execution_count": 15,
     "metadata": {},
     "output_type": "execute_result"
    }
   ],
   "source": [
    "class TestsForSnakeStats(unittest.TestCase):\n",
    "\n",
    "    def test_getMedian(self):\n",
    "        med = snakestats.getMedian([1,2,3,4,5])\n",
    "        self.assertEqual(med, 3)\n",
    "    \n",
    "unittest.main(argv=['ignored', '-v'], exit=False)"
   ]
  },
  {
   "cell_type": "code",
   "execution_count": 16,
   "id": "0ea41f7b",
   "metadata": {},
   "outputs": [
    {
     "name": "stderr",
     "output_type": "stream",
     "text": [
      "test_getMedian (__main__.TestsForSnakeStats) ... ok\n",
      "\n",
      "----------------------------------------------------------------------\n",
      "Ran 1 test in 0.001s\n",
      "\n",
      "OK\n"
     ]
    },
    {
     "data": {
      "text/plain": [
       "<unittest.main.TestProgram at 0x21e5d7c8670>"
      ]
     },
     "execution_count": 16,
     "metadata": {},
     "output_type": "execute_result"
    }
   ],
   "source": [
    "class TestsForSnakeStats(unittest.TestCase):\n",
    "\n",
    "    def test_getMedian(self):\n",
    "        med = snakestats.getMedian([1,2,3,4])\n",
    "        self.assertEqual(med, 2.5)\n",
    "    \n",
    "unittest.main(argv=['ignored', '-v'], exit=False)"
   ]
  },
  {
   "cell_type": "code",
   "execution_count": 17,
   "id": "30c3d1e8",
   "metadata": {},
   "outputs": [
    {
     "name": "stderr",
     "output_type": "stream",
     "text": [
      "test_getMedian (__main__.TestsForSnakeStats) ... ok\n",
      "\n",
      "----------------------------------------------------------------------\n",
      "Ran 1 test in 0.001s\n",
      "\n",
      "OK\n"
     ]
    },
    {
     "data": {
      "text/plain": [
       "<unittest.main.TestProgram at 0x21e5d825d00>"
      ]
     },
     "execution_count": 17,
     "metadata": {},
     "output_type": "execute_result"
    }
   ],
   "source": [
    "class TestsForSnakeStats(unittest.TestCase):\n",
    "\n",
    "    def test_getMedian(self):\n",
    "        med = snakestats.getMedian([3,1,5,6,2,7,4])\n",
    "        self.assertEqual(med, 4)\n",
    "    \n",
    "unittest.main(argv=['ignored', '-v'], exit=False)"
   ]
  },
  {
   "cell_type": "code",
   "execution_count": null,
   "id": "7ea7fb76",
   "metadata": {},
   "outputs": [],
   "source": []
  }
 ],
 "metadata": {
  "kernelspec": {
   "display_name": "Python 3 (ipykernel)",
   "language": "python",
   "name": "python3"
  },
  "language_info": {
   "codemirror_mode": {
    "name": "ipython",
    "version": 3
   },
   "file_extension": ".py",
   "mimetype": "text/x-python",
   "name": "python",
   "nbconvert_exporter": "python",
   "pygments_lexer": "ipython3",
   "version": "3.9.13"
  }
 },
 "nbformat": 4,
 "nbformat_minor": 5
}
